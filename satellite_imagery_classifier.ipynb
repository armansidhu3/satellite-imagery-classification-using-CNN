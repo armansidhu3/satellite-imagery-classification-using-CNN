{
 "cells": [
  {
   "cell_type": "markdown",
   "metadata": {
    "colab_type": "text",
    "id": "1TlVAD6JJiFQ"
   },
   "source": [
    "## File structure\n",
    "\n",
    "\n",
    "```\n",
    "data\n",
    " |__train\n",
    " |    |__agricultural\n",
    " |    |__airplane\n",
    " |    |__baseballdiamond\n",
    " |    |__beach\n",
    " |    |__buildings\n",
    " |    |__...\n",
    " |__val\n",
    "      |__agricultural\n",
    "      |__airplane\n",
    "      |__baseballdiamond\n",
    "      |__beach\n",
    "      |__buildings\n",
    "      |__...\n",
    "```"
   ]
  },
  {
   "cell_type": "code",
   "execution_count": null,
   "metadata": {
    "colab": {},
    "colab_type": "code",
    "id": "imEEmnJbJiFR"
   },
   "outputs": [],
   "source": [
    "!unzip train.zip\n",
    "%mv train data\n",
    "%cd data\n",
    "%mkdir train val\n",
    "%mkdir train/agricultural train/airplane train/baseballdiamond train/beach train/buildings train/chaparral train/denseresidential train/forest train/freeway train/golfcourse train/harbor train/intersection train/mediumresidential train/mobilehomepark train/overpass train/parkinglot train/river train/runway train/sparseresidential train/storagetanks train/tenniscourt\n",
    "%mkdir val/agricultural val/airplane val/baseballdiamond val/beach val/buildings val/chaparral val/denseresidential val/forest val/freeway val/golfcourse val/harbor val/intersection val/mediumresidential val/mobilehomepark val/overpass val/parkinglot val/river val/runway val/sparseresidential val/storagetanks val/tenniscourt"
   ]
  },
  {
   "cell_type": "code",
   "execution_count": null,
   "metadata": {
    "colab": {},
    "colab_type": "code",
    "id": "CEGwBl1HJiFX"
   },
   "outputs": [],
   "source": [
    "%ls | grep agricultural | sort -R | head -50 | xargs -I {} mv {} train/agricultural/\n",
    "%ls | grep airplane | sort -R | head -50 | xargs -I {} mv {} train/airplane/\n",
    "%ls | grep baseballdiamond | sort -R | head -50 | xargs -I {} mv {} train/baseballdiamond/\n",
    "%ls | grep beach | sort -R | head -50 | xargs -I {} mv {} train/beach/\n",
    "%ls | grep buildings | sort -R | head -50 | xargs -I {} mv {} train/buildings/\n",
    "%ls | grep chaparral | sort -R | head -50 | xargs -I {} mv {} train/chaparral/\n",
    "%ls | grep denseresidential | sort -R | head -50 | xargs -I {} mv {} train/denseresidential/\n",
    "%ls | grep forest | sort -R | head -50 | xargs -I {} mv {} train/forest/\n",
    "%ls | grep freeway | sort -R | head -50 | xargs -I {} mv {} train/freeway/\n",
    "%ls | grep golfcourse | sort -R | head -50 | xargs -I {} mv {} train/golfcourse/\n",
    "%ls | grep harbor | sort -R | head -50 | xargs -I {} mv {} train/harbor/\n",
    "%ls | grep intersection | sort -R | head -50 | xargs -I {} mv {} train/intersection/\n",
    "%ls | grep mediumresidential | sort -R | head -50 | xargs -I {} mv {} train/mediumresidential/\n",
    "%ls | grep mobilehomepark | sort -R | head -50 | xargs -I {} mv {} train/mobilehomepark/\n",
    "%ls | grep overpass | sort -R | head -50 | xargs -I {} mv {} train/overpass/\n",
    "%ls | grep parkinglot | sort -R | head -50 | xargs -I {} mv {} train/parkinglot/\n",
    "%ls | grep river | sort -R | head -50 | xargs -I {} mv {} train/river/\n",
    "%ls | grep runway | sort -R | head -50 | xargs -I {} mv {} train/runway/\n",
    "%ls | grep sparseresidential | sort -R | head -50 | xargs -I {} mv {} train/sparseresidential/\n",
    "%ls | grep storagetanks | sort -R | head -50 | xargs -I {} mv {} train/storagetanks/\n",
    "%ls | grep tenniscourt | sort -R | head -50 | xargs -I {} mv {} train/tenniscourt/\n",
    "\n",
    "%ls | grep agricultural | sort -R | head -50 | xargs -I {} mv {} val/agricultural/\n",
    "%ls | grep airplane | sort -R | head -50 | xargs -I {} mv {} val/airplane/\n",
    "%ls | grep baseballdiamond | sort -R | head -50 | xargs -I {} mv {} val/baseballdiamond/\n",
    "%ls | grep beach | sort -R | head -50 | xargs -I {} mv {} val/beach/\n",
    "%ls | grep buildings | sort -R | head -50 | xargs -I {} mv {} val/buildings/\n",
    "%ls | grep chaparral | sort -R | head -50 | xargs -I {} mv {} val/chaparral/\n",
    "%ls | grep denseresidential | sort -R | head -50 | xargs -I {} mv {} val/denseresidential/\n",
    "%ls | grep forest | sort -R | head -50 | xargs -I {} mv {} val/forest/\n",
    "%ls | grep freeway | sort -R | head -50 | xargs -I {} mv {} val/freeway/\n",
    "%ls | grep golfcourse | sort -R | head -50 | xargs -I {} mv {} val/golfcourse/\n",
    "%ls | grep harbor | sort -R | head -50 | xargs -I {} mv {} val/harbor/\n",
    "%ls | grep intersection | sort -R | head -50 | xargs -I {} mv {} val/intersection/\n",
    "%ls | grep mediumresidential | sort -R | head -50 | xargs -I {} mv {} val/mediumresidential/\n",
    "%ls | grep mobilehomepark | sort -R | head -50 | xargs -I {} mv {} val/mobilehomepark/\n",
    "%ls | grep overpass | sort -R | head -50 | xargs -I {} mv {} val/overpass/\n",
    "%ls | grep parkinglot | sort -R | head -50 | xargs -I {} mv {} val/parkinglot/\n",
    "%ls | grep river | sort -R | head -50 | xargs -I {} mv {} val/river/\n",
    "%ls | grep runway | sort -R | head -50 | xargs -I {} mv {} val/runway/\n",
    "%ls | grep sparseresidential | sort -R | head -50 | xargs -I {} mv {} val/sparseresidential/\n",
    "%ls | grep storagetanks | sort -R | head -50 | xargs -I {} mv {} val/storagetanks/\n",
    "%ls | grep tenniscourt | sort -R | head -50 | xargs -I {} mv {} val/tenniscourt/"
   ]
  },
  {
   "cell_type": "markdown",
   "metadata": {
    "colab_type": "text",
    "id": "I4_VmJBxJiFc"
   },
   "source": [
    "## Setting up the configuration"
   ]
  },
  {
   "cell_type": "code",
   "execution_count": null,
   "metadata": {
    "colab": {},
    "colab_type": "code",
    "id": "RljkUUmhJiFd"
   },
   "outputs": [],
   "source": [
    "import tensorflow as tf\n",
    "from tensorflow.keras.preprocessing.image import ImageDataGenerator\n",
    "from tensorflow.keras.models import Model\n",
    "from tensorflow.keras.layers import Input, Flatten, Dense, Dropout, GlobalAveragePooling2D\n",
    "from tensorflow.keras.applications.mobilenet import MobileNet, preprocess_input\n",
    "import math"
   ]
  },
  {
   "cell_type": "code",
   "execution_count": null,
   "metadata": {
    "colab": {},
    "colab_type": "code",
    "id": "d-d3NA8JJiFi"
   },
   "outputs": [],
   "source": [
    "TRAIN_DATA_DIR = 'train/'\n",
    "VALIDATION_DATA_DIR = 'val/'\n",
    "TRAIN_SAMPLES = 1050\n",
    "VALIDATION_SAMPLES = 1050\n",
    "NUM_CLASSES = 21\n",
    "IMG_WIDTH, IMG_HEIGHT = 224, 224\n",
    "BATCH_SIZE = 64"
   ]
  },
  {
   "cell_type": "markdown",
   "metadata": {
    "colab_type": "text",
    "id": "EmdeYVgsJiFm"
   },
   "source": [
    "## Loading and augmenting the data"
   ]
  },
  {
   "cell_type": "code",
   "execution_count": null,
   "metadata": {
    "colab": {},
    "colab_type": "code",
    "id": "mqTxI6jwJiFn"
   },
   "outputs": [],
   "source": [
    "train_datagen = ImageDataGenerator(preprocessing_function=preprocess_input,\n",
    "                                   rotation_range=20,\n",
    "                                   width_shift_range=0.2,\n",
    "                                   height_shift_range=0.2,\n",
    "                                   zoom_range=0.2)\n",
    "val_datagen = ImageDataGenerator(preprocessing_function=preprocess_input)"
   ]
  },
  {
   "cell_type": "code",
   "execution_count": null,
   "metadata": {
    "colab": {
     "base_uri": "https://localhost:8080/",
     "height": 52
    },
    "colab_type": "code",
    "id": "v8xAtvjHJiFr",
    "outputId": "920320a6-1cb8-4fca-f3af-d633d1d5515b"
   },
   "outputs": [
    {
     "name": "stdout",
     "output_type": "stream",
     "text": [
      "Found 1050 images belonging to 21 classes.\n",
      "Found 1050 images belonging to 21 classes.\n"
     ]
    }
   ],
   "source": [
    "train_generator = train_datagen.flow_from_directory(TRAIN_DATA_DIR,\n",
    "                                                    target_size=(IMG_WIDTH,\n",
    "                                                                 IMG_HEIGHT),\n",
    "                                                    batch_size=BATCH_SIZE,\n",
    "                                                    shuffle=True,\n",
    "                                                    seed=12345,\n",
    "                                                    class_mode='categorical')\n",
    "validation_generator = val_datagen.flow_from_directory(\n",
    "    VALIDATION_DATA_DIR,\n",
    "    target_size=(IMG_WIDTH, IMG_HEIGHT),\n",
    "    batch_size=BATCH_SIZE,\n",
    "    shuffle=False,\n",
    "    class_mode='categorical')"
   ]
  },
  {
   "cell_type": "markdown",
   "metadata": {
    "colab_type": "text",
    "id": "bjFO6ntmJiFx"
   },
   "source": [
    "## Defining the model"
   ]
  },
  {
   "cell_type": "code",
   "execution_count": null,
   "metadata": {
    "colab": {},
    "colab_type": "code",
    "id": "d_qhnX7AJiFy"
   },
   "outputs": [],
   "source": [
    "def model_maker():\n",
    "    base_model = MobileNet(include_top=False,\n",
    "                           input_shape=(IMG_WIDTH, IMG_HEIGHT, 3))\n",
    "    for layer in base_model.layers[:]:\n",
    "        layer.trainable = False\n",
    "    input = Input(shape=(IMG_WIDTH, IMG_HEIGHT, 3))\n",
    "    custom_model = base_model(input)\n",
    "    custom_model = GlobalAveragePooling2D()(custom_model)\n",
    "    custom_model = Dense(64, activation='relu')(custom_model)\n",
    "    custom_model = Dropout(0.5)(custom_model)\n",
    "    predictions = Dense(NUM_CLASSES, activation='softmax')(custom_model)\n",
    "    return Model(inputs=input, outputs=predictions)"
   ]
  },
  {
   "cell_type": "markdown",
   "metadata": {
    "colab_type": "text",
    "id": "5XUYh0VVJiF1"
   },
   "source": [
    "## Training and testing"
   ]
  },
  {
   "cell_type": "code",
   "execution_count": null,
   "metadata": {
    "colab": {
     "base_uri": "https://localhost:8080/",
     "height": 676
    },
    "colab_type": "code",
    "id": "-jsNnIO2JiF2",
    "outputId": "2f01eb41-0610-439b-ded7-4c606ff0d52e",
    "scrolled": false
   },
   "outputs": [
    {
     "name": "stdout",
     "output_type": "stream",
     "text": [
      "Downloading data from https://storage.googleapis.com/tensorflow/keras-applications/mobilenet/mobilenet_1_0_224_tf_no_top.h5\n",
      "17227776/17225924 [==============================] - 0s 0us/step\n",
      "WARNING:tensorflow:From <ipython-input-10-322ce4bb27a5>:10: Model.fit_generator (from tensorflow.python.keras.engine.training) is deprecated and will be removed in a future version.\n",
      "Instructions for updating:\n",
      "Please use Model.fit, which supports generators.\n",
      "Epoch 1/15\n",
      "17/17 [==============================] - 1261s 74s/step - loss: 3.0266 - acc: 0.1143 - val_loss: 2.4103 - val_acc: 0.2876\n",
      "Epoch 2/15\n",
      "17/17 [==============================] - 86s 5s/step - loss: 2.3084 - acc: 0.2933 - val_loss: 1.7296 - val_acc: 0.5705\n",
      "Epoch 3/15\n",
      "17/17 [==============================] - 89s 5s/step - loss: 1.8527 - acc: 0.4305 - val_loss: 1.3097 - val_acc: 0.6876\n",
      "Epoch 4/15\n",
      "17/17 [==============================] - 86s 5s/step - loss: 1.5516 - acc: 0.4990 - val_loss: 0.9869 - val_acc: 0.7629\n",
      "Epoch 5/15\n",
      "17/17 [==============================] - 85s 5s/step - loss: 1.3461 - acc: 0.5667 - val_loss: 0.8060 - val_acc: 0.8276\n",
      "Epoch 6/15\n",
      "17/17 [==============================] - 85s 5s/step - loss: 1.1126 - acc: 0.6410 - val_loss: 0.6376 - val_acc: 0.8438\n",
      "Epoch 7/15\n",
      "17/17 [==============================] - 86s 5s/step - loss: 1.0710 - acc: 0.6743 - val_loss: 0.5854 - val_acc: 0.8733\n",
      "Epoch 8/15\n",
      "17/17 [==============================] - 85s 5s/step - loss: 0.9018 - acc: 0.7210 - val_loss: 0.4736 - val_acc: 0.8848\n",
      "Epoch 9/15\n",
      "17/17 [==============================] - 86s 5s/step - loss: 0.8796 - acc: 0.7048 - val_loss: 0.4536 - val_acc: 0.8943\n",
      "Epoch 10/15\n",
      "17/17 [==============================] - 86s 5s/step - loss: 0.7716 - acc: 0.7571 - val_loss: 0.3778 - val_acc: 0.9057\n",
      "Epoch 11/15\n",
      "17/17 [==============================] - 86s 5s/step - loss: 0.7213 - acc: 0.7733 - val_loss: 0.3663 - val_acc: 0.9105\n",
      "Epoch 12/15\n",
      "17/17 [==============================] - 86s 5s/step - loss: 0.7026 - acc: 0.7867 - val_loss: 0.3399 - val_acc: 0.9143\n",
      "Epoch 13/15\n",
      "17/17 [==============================] - 86s 5s/step - loss: 0.6478 - acc: 0.7943 - val_loss: 0.3128 - val_acc: 0.9210\n",
      "Epoch 14/15\n",
      "17/17 [==============================] - 86s 5s/step - loss: 0.6101 - acc: 0.7933 - val_loss: 0.2923 - val_acc: 0.9305\n",
      "Epoch 15/15\n",
      "17/17 [==============================] - 85s 5s/step - loss: 0.5689 - acc: 0.8143 - val_loss: 0.2839 - val_acc: 0.9257\n"
     ]
    },
    {
     "data": {
      "text/plain": [
       "<tensorflow.python.keras.callbacks.History at 0x7f3286fb6278>"
      ]
     },
     "execution_count": 10,
     "metadata": {
      "tags": []
     },
     "output_type": "execute_result"
    }
   ],
   "source": [
    "model = model_maker()\n",
    "model.compile(loss='categorical_crossentropy',\n",
    "              optimizer=tf.keras.optimizers.Adam(0.001),\n",
    "              metrics=['acc'])\n",
    "model.fit_generator(\n",
    "    train_generator,\n",
    "    steps_per_epoch=math.ceil(float(TRAIN_SAMPLES) / BATCH_SIZE),\n",
    "    epochs=15,\n",
    "    validation_data=validation_generator,\n",
    "    validation_steps=math.ceil(float(VALIDATION_SAMPLES) / BATCH_SIZE))"
   ]
  },
  {
   "cell_type": "code",
   "execution_count": null,
   "metadata": {
    "colab": {},
    "colab_type": "code",
    "id": "BAnSiLKDJiF6"
   },
   "outputs": [],
   "source": [
    "model.save('model.h5')"
   ]
  },
  {
   "cell_type": "markdown",
   "metadata": {
    "colab_type": "text",
    "id": "165Pyz5KJiF-"
   },
   "source": [
    "## Model Prediction"
   ]
  },
  {
   "cell_type": "code",
   "execution_count": null,
   "metadata": {
    "colab": {},
    "colab_type": "code",
    "id": "FB1Dm6h2JiF_"
   },
   "outputs": [],
   "source": [
    "from tensorflow.keras.models import load_model\n",
    "from tensorflow.keras.preprocessing import image\n",
    "import numpy as np\n",
    "model = load_model('model.h5')"
   ]
  },
  {
   "cell_type": "code",
   "execution_count": null,
   "metadata": {
    "colab": {
     "base_uri": "https://localhost:8080/",
     "height": 143
    },
    "colab_type": "code",
    "id": "TX4MNfBpJiGE",
    "outputId": "52f70505-45ae-4cea-f013-ced2bfc2eb05"
   },
   "outputs": [
    {
     "name": "stdout",
     "output_type": "stream",
     "text": [
      "[[7.8358324e-03 6.6628585e-05 8.1206890e-05 3.2659969e-04 9.2223508e-04\n",
      "  1.6775356e-03 1.7287086e-03 1.0368399e-03 1.6595161e-02 1.0470309e-03\n",
      "  2.7457692e-02 2.9862472e-03 4.5009912e-04 2.4410980e-02 1.0465557e-03\n",
      "  9.1069102e-01 1.9231014e-04 5.1590143e-04 1.1222861e-04 4.6408907e-04\n",
      "  3.5504301e-04]]\n",
      "{'agricultural': 0, 'airplane': 1, 'baseballdiamond': 2, 'beach': 3, 'buildings': 4, 'chaparral': 5, 'denseresidential': 6, 'forest': 7, 'freeway': 8, 'golfcourse': 9, 'harbor': 10, 'intersection': 11, 'mediumresidential': 12, 'mobilehomepark': 13, 'overpass': 14, 'parkinglot': 15, 'river': 16, 'runway': 17, 'sparseresidential': 18, 'storagetanks': 19, 'tenniscourt': 20}\n"
     ]
    }
   ],
   "source": [
    "img_path = 'parkinglot_satellite.jpg'\n",
    "img = image.load_img(img_path, target_size=(224, 224))\n",
    "img_array = image.img_to_array(img)\n",
    "expanded_img_array = np.expand_dims(img_array, axis=0)\n",
    "preprocessed_img = expanded_img_array / 255.  # Preprocess the image\n",
    "prediction = model.predict(preprocessed_img)\n",
    "print(prediction)\n",
    "print(validation_generator.class_indices)"
   ]
  }
 ],
 "metadata": {
  "colab": {
   "collapsed_sections": [],
   "name": "keras-custom-classifier-with-transfer-learning.ipynb",
   "provenance": []
  },
  "kernelspec": {
   "display_name": "Python 3",
   "language": "python",
   "name": "python3"
  },
  "language_info": {
   "codemirror_mode": {
    "name": "ipython",
    "version": 3
   },
   "file_extension": ".py",
   "mimetype": "text/x-python",
   "name": "python",
   "nbconvert_exporter": "python",
   "pygments_lexer": "ipython3",
   "version": "3.8.5"
  },
  "toc": {
   "base_numbering": 1,
   "nav_menu": {},
   "number_sections": true,
   "sideBar": true,
   "skip_h1_title": false,
   "title_cell": "Table of Contents",
   "title_sidebar": "Contents",
   "toc_cell": false,
   "toc_position": {},
   "toc_section_display": true,
   "toc_window_display": false
  }
 },
 "nbformat": 4,
 "nbformat_minor": 1
}
